{
 "cells": [
  {
   "cell_type": "code",
   "execution_count": 1,
   "id": "3eccbae4",
   "metadata": {},
   "outputs": [],
   "source": [
    "## Номер варінту"
   ]
  },
  {
   "cell_type": "code",
   "execution_count": 2,
   "id": "126df1c4",
   "metadata": {},
   "outputs": [
    {
     "name": "stdout",
     "output_type": "stream",
     "text": [
      "1\n"
     ]
    }
   ],
   "source": [
    "N = (16 + 4) % 5 + 1\n",
    "print(N)"
   ]
  },
  {
   "cell_type": "code",
   "execution_count": 3,
   "id": "d0d2e8ed",
   "metadata": {},
   "outputs": [],
   "source": [
    "## Дані з файлу "
   ]
  },
  {
   "cell_type": "code",
   "execution_count": 4,
   "id": "7b671b5e",
   "metadata": {},
   "outputs": [],
   "source": [
    "import pandas as pd\n",
    "\n",
    "df = pd.read_csv('NationalNames.csv')"
   ]
  },
  {
   "cell_type": "code",
   "execution_count": 5,
   "id": "bec00733",
   "metadata": {},
   "outputs": [],
   "source": [
    "## №1 \n",
    "### Перші 8 рядків "
   ]
  },
  {
   "cell_type": "code",
   "execution_count": 6,
   "id": "717a4479",
   "metadata": {},
   "outputs": [
    {
     "name": "stdout",
     "output_type": "stream",
     "text": [
      "   Id       Name  Year Gender  Count\n",
      "0   1       Mary  1880      F   7065\n",
      "1   2       Anna  1880      F   2604\n",
      "2   3       Emma  1880      F   2003\n",
      "3   4  Elizabeth  1880      F   1939\n",
      "4   5     Minnie  1880      F   1746\n",
      "5   6   Margaret  1880      F   1578\n",
      "6   7        Ida  1880      F   1472\n",
      "7   8      Alice  1880      F   1414\n"
     ]
    }
   ],
   "source": [
    "print(df.head(8))"
   ]
  },
  {
   "cell_type": "code",
   "execution_count": 7,
   "id": "dc6ac084",
   "metadata": {},
   "outputs": [],
   "source": [
    "## №2 \n",
    "### Останні 8 рядків"
   ]
  },
  {
   "cell_type": "code",
   "execution_count": 8,
   "id": "0955ddd6",
   "metadata": {},
   "outputs": [
    {
     "name": "stdout",
     "output_type": "stream",
     "text": [
      "              Id     Name  Year Gender  Count\n",
      "1825425  1825426       Zo  2014      M      5\n",
      "1825426  1825427    Zyeir  2014      M      5\n",
      "1825427  1825428     Zyel  2014      M      5\n",
      "1825428  1825429   Zykeem  2014      M      5\n",
      "1825429  1825430   Zymeer  2014      M      5\n",
      "1825430  1825431  Zymiere  2014      M      5\n",
      "1825431  1825432    Zyran  2014      M      5\n",
      "1825432  1825433    Zyrin  2014      M      5\n"
     ]
    }
   ],
   "source": [
    "print(df.tail(8))"
   ]
  },
  {
   "cell_type": "code",
   "execution_count": 9,
   "id": "f1f8fad8",
   "metadata": {},
   "outputs": [],
   "source": [
    "## №3 \n",
    "### Імена стовпців набору даних"
   ]
  },
  {
   "cell_type": "code",
   "execution_count": 10,
   "id": "da21c596",
   "metadata": {},
   "outputs": [
    {
     "name": "stdout",
     "output_type": "stream",
     "text": [
      "Index(['Id', 'Name', 'Year', 'Gender', 'Count'], dtype='object')\n"
     ]
    }
   ],
   "source": [
    "print(df.columns)"
   ]
  },
  {
   "cell_type": "code",
   "execution_count": 14,
   "id": "cdb5bff7",
   "metadata": {},
   "outputs": [
    {
     "name": "stdout",
     "output_type": "stream",
     "text": [
      "Кількість унікальних імен у наборі даних: 93889\n"
     ]
    }
   ],
   "source": [
    "unique_names_count = df['Name'].nunique()\n",
    "\n",
    "print(\"Кількість унікальних імен у наборі даних:\", unique_names_count)"
   ]
  },
  {
   "cell_type": "code",
   "execution_count": null,
   "id": "a266aeab",
   "metadata": {},
   "outputs": [],
   "source": []
  }
 ],
 "metadata": {
  "kernelspec": {
   "display_name": "Python 3 (ipykernel)",
   "language": "python",
   "name": "python3"
  },
  "language_info": {
   "codemirror_mode": {
    "name": "ipython",
    "version": 3
   },
   "file_extension": ".py",
   "mimetype": "text/x-python",
   "name": "python",
   "nbconvert_exporter": "python",
   "pygments_lexer": "ipython3",
   "version": "3.11.5"
  }
 },
 "nbformat": 4,
 "nbformat_minor": 5
}
