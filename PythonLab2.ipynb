{
 "cells": [
  {
   "cell_type": "markdown",
   "id": "2a48f4a1",
   "metadata": {},
   "source": [
    "## Номер варінту"
   ]
  },
  {
   "cell_type": "code",
   "execution_count": 2,
   "id": "bad8f36b",
   "metadata": {},
   "outputs": [
    {
     "name": "stdout",
     "output_type": "stream",
     "text": [
      "1\n"
     ]
    }
   ],
   "source": [
    "N = (16 + 4) % 5 + 1\n",
    "print(N)"
   ]
  },
  {
   "cell_type": "markdown",
   "id": "58454546",
   "metadata": {},
   "source": [
    "## Дані з файлу "
   ]
  },
  {
   "cell_type": "code",
   "execution_count": 10,
   "id": "395a3b7d",
   "metadata": {},
   "outputs": [],
   "source": [
    "import pandas as pd\n",
    "\n",
    "df = pd.read_csv('NationalNames.csv')"
   ]
  },
  {
   "cell_type": "markdown",
   "id": "c43bbb42",
   "metadata": {},
   "source": [
    "## №1 \n",
    "### Перші 8 рядків "
   ]
  },
  {
   "cell_type": "code",
   "execution_count": 6,
   "id": "9a2645f6",
   "metadata": {},
   "outputs": [
    {
     "name": "stdout",
     "output_type": "stream",
     "text": [
      "   Id       Name  Year Gender  Count\n",
      "0   1       Mary  1880      F   7065\n",
      "1   2       Anna  1880      F   2604\n",
      "2   3       Emma  1880      F   2003\n",
      "3   4  Elizabeth  1880      F   1939\n",
      "4   5     Minnie  1880      F   1746\n",
      "5   6   Margaret  1880      F   1578\n",
      "6   7        Ida  1880      F   1472\n",
      "7   8      Alice  1880      F   1414\n"
     ]
    }
   ],
   "source": [
    "print(df.head(8))"
   ]
  },
  {
   "cell_type": "markdown",
   "id": "690a49e1",
   "metadata": {},
   "source": [
    "## №2 \n",
    "### Останні 8 рядків"
   ]
  },
  {
   "cell_type": "code",
   "execution_count": 8,
   "id": "8bcd70fd",
   "metadata": {},
   "outputs": [
    {
     "name": "stdout",
     "output_type": "stream",
     "text": [
      "              Id     Name  Year Gender  Count\n",
      "1825425  1825426       Zo  2014      M      5\n",
      "1825426  1825427    Zyeir  2014      M      5\n",
      "1825427  1825428     Zyel  2014      M      5\n",
      "1825428  1825429   Zykeem  2014      M      5\n",
      "1825429  1825430   Zymeer  2014      M      5\n",
      "1825430  1825431  Zymiere  2014      M      5\n",
      "1825431  1825432    Zyran  2014      M      5\n",
      "1825432  1825433    Zyrin  2014      M      5\n"
     ]
    }
   ],
   "source": [
    "print(df.tail(8))"
   ]
  },
  {
   "cell_type": "markdown",
   "id": "e9fb6c5b",
   "metadata": {},
   "source": [
    "## №3 \n",
    "### Імена стовпців набору даних"
   ]
  },
  {
   "cell_type": "code",
   "execution_count": 10,
   "id": "cead514d",
   "metadata": {},
   "outputs": [
    {
     "name": "stdout",
     "output_type": "stream",
     "text": [
      "Index(['Id', 'Name', 'Year', 'Gender', 'Count'], dtype='object')\n"
     ]
    }
   ],
   "source": [
    "print(df.columns)"
   ]
  },
  {
   "cell_type": "markdown",
   "id": "592088d5",
   "metadata": {},
   "source": [
    "## №5 \n",
    "### Кількість унікальних імен"
   ]
  },
  {
   "cell_type": "code",
   "execution_count": 15,
   "id": "1ef5437b",
   "metadata": {},
   "outputs": [
    {
     "name": "stdout",
     "output_type": "stream",
     "text": [
      "Кількість унікальних імен у наборі даних: 93889\n"
     ]
    }
   ],
   "source": [
    "unique_names_count = df['Name'].nunique()\n",
    "\n",
    "print(\"Кількість унікальних імен у наборі даних:\", unique_names_count)"
   ]
  },
  {
   "cell_type": "markdown",
   "id": "e609a833",
   "metadata": {},
   "source": [
    "## №10 \n",
    "### Кількість унікальних імен у кожному році"
   ]
  },
  {
   "cell_type": "code",
   "execution_count": 17,
   "id": "c3754040",
   "metadata": {},
   "outputs": [
    {
     "name": "stdout",
     "output_type": "stream",
     "text": [
      "Year\n",
      "1880     1889\n",
      "1881     1830\n",
      "1882     2012\n",
      "1883     1962\n",
      "1884     2158\n",
      "        ...  \n",
      "2010    31603\n",
      "2011    31418\n",
      "2012    31236\n",
      "2013    30774\n",
      "2014    30579\n",
      "Name: Name, Length: 135, dtype: int64\n"
     ]
    }
   ],
   "source": [
    "unique_names_by_year = df.groupby('Year')['Name'].nunique()\n",
    "\n",
    "print(unique_names_by_year)"
   ]
  },
  {
   "cell_type": "markdown",
   "id": "7c5a3e13",
   "metadata": {},
   "source": [
    "## №11 \n",
    "### Рік з найбільгою кількістью унікальних імен"
   ]
  },
  {
   "cell_type": "code",
   "execution_count": 20,
   "id": "5cb1a652",
   "metadata": {},
   "outputs": [
    {
     "name": "stdout",
     "output_type": "stream",
     "text": [
      "Рік: 2008\n",
      "Кількість: 32488\n"
     ]
    }
   ],
   "source": [
    "max_unique_year = unique_names_by_year.idxmax()\n",
    "max_unique_count = unique_names_by_year.max()\n",
    "\n",
    "print(\"Рік:\", max_unique_year)\n",
    "print(\"Кількість:\", max_unique_count)"
   ]
  },
  {
   "cell_type": "markdown",
   "id": "8dbf4c89",
   "metadata": {},
   "source": [
    "## №12 \n",
    "### Найпопулярніше ім’я в році з найбільшою кількістю унікальних імен (тобто у 2008 році)"
   ]
  },
  {
   "cell_type": "code",
   "execution_count": 22,
   "id": "cc8e0f7b",
   "metadata": {},
   "outputs": [
    {
     "name": "stdout",
     "output_type": "stream",
     "text": [
      "'Jacob'\n"
     ]
    }
   ],
   "source": [
    "unique_names_per_year = df.groupby('Year')['Name'].nunique()\n",
    "most_unique_names_year = unique_names_per_year.idxmax()\n",
    "most_popular_name_most_unique_year = df[df['Year'] == most_unique_names_year].groupby('Name')['Count'].sum().idxmax()\n",
    "print(f\"'{most_popular_name_most_unique_year}'\")"
   ]
  },
  {
   "cell_type": "markdown",
   "id": "7ab51a9f",
   "metadata": {},
   "source": [
    "## №13 \n",
    "### Рік, коли ім’я “Jacob” було найпопулярнішим серед жіночих Імен"
   ]
  },
  {
   "cell_type": "code",
   "execution_count": 24,
   "id": "6435af4e",
   "metadata": {},
   "outputs": [
    {
     "name": "stdout",
     "output_type": "stream",
     "text": [
      "              Id   Name  Year Gender  Count\n",
      "1455556  1455557  Jacob  2004      F    171\n"
     ]
    }
   ],
   "source": [
    "jacob_female = df[(df['Name'] == 'Jacob') & (df['Gender'] == 'F')]\n",
    "most_popular_row_jacob_female = jacob_female[jacob_female['Count'] == jacob_female['Count'].max()]\n",
    "print(most_popular_row_jacob_female)"
   ]
  },
  {
   "cell_type": "markdown",
   "id": "25bbb1fe",
   "metadata": {},
   "source": [
    "## №14 \n",
    "### Рік із найбільшою кількістю гендерно нейтральних імен (однакові чоловічі та жіночі імена)"
   ]
  },
  {
   "cell_type": "code",
   "execution_count": 26,
   "id": "c4ee6cbe",
   "metadata": {},
   "outputs": [
    {
     "name": "stdout",
     "output_type": "stream",
     "text": [
      "      Gender_neutral_names\n",
      "Year                      \n",
      "2008                  2557\n"
     ]
    }
   ],
   "source": [
    "names_F = df[df['Gender'] == 'F'][['Name', 'Year']]\n",
    "names_M = df[df['Gender'] == 'M'][['Name', 'Year']]\n",
    "gender_neutral_names = pd.merge(names_F, names_M, on=['Name', 'Year'])\n",
    "gender_neutral_names_by_year = gender_neutral_names['Year'].value_counts()\n",
    "year_with_most_gender_neutral_names = gender_neutral_names_by_year.idxmax()\n",
    "num_gender_neutral_names = gender_neutral_names_by_year.max()\n",
    "gender_neutral_names_df = pd.DataFrame({\n",
    "    'Year': [year_with_most_gender_neutral_names],\n",
    "    'Gender_neutral_names': [num_gender_neutral_names]\n",
    "})\n",
    "gender_neutral_names_df.set_index('Year', inplace=True)\n",
    "\n",
    "print(gender_neutral_names_df)"
   ]
  },
  {
   "cell_type": "markdown",
   "id": "895e37c5",
   "metadata": {},
   "source": [
    "## №15\n",
    "### Загальна кількість народжень за рік."
   ]
  },
  {
   "cell_type": "code",
   "execution_count": 28,
   "id": "debe1374",
   "metadata": {},
   "outputs": [
    {
     "name": "stdout",
     "output_type": "stream",
     "text": [
      "        Count\n",
      "Year         \n",
      "1880   201484\n",
      "1881   192699\n",
      "1882   221538\n",
      "1883   216950\n",
      "1884   243467\n",
      "...       ...\n",
      "2010  3686589\n",
      "2011  3646730\n",
      "2012  3643336\n",
      "2013  3626802\n",
      "2014  3670151\n",
      "\n",
      "[135 rows x 1 columns]\n"
     ]
    }
   ],
   "source": [
    "total_births_by_year = df.groupby('Year')['Count'].sum()\n",
    "total_births_by_year_df = total_births_by_year.reset_index()\n",
    "total_births_by_year_df.set_index('Year', inplace=True)\n",
    "print(total_births_by_year_df)"
   ]
  },
  {
   "cell_type": "markdown",
   "id": "a3affe6d",
   "metadata": {},
   "source": [
    "## №16\n",
    "### Загальна кількість народжень за рік."
   ]
  },
  {
   "cell_type": "code",
   "execution_count": 30,
   "id": "bfc01b2b",
   "metadata": {},
   "outputs": [
    {
     "name": "stdout",
     "output_type": "stream",
     "text": [
      "1957\n"
     ]
    }
   ],
   "source": [
    "year_with_most_births = total_births_by_year_df['Count'].idxmax()\n",
    "print(year_with_most_births)"
   ]
  },
  {
   "cell_type": "markdown",
   "id": "27622ef2",
   "metadata": {},
   "source": [
    "## №17\n",
    "### Кількість дівчаток та хлопчиків, які народились кожного року"
   ]
  },
  {
   "cell_type": "code",
   "execution_count": 32,
   "id": "ca9dd5dc",
   "metadata": {},
   "outputs": [
    {
     "name": "stdout",
     "output_type": "stream",
     "text": [
      "Gender        F        M\n",
      "Year                    \n",
      "1880      90993   110491\n",
      "1881      91954   100745\n",
      "1882     107850   113688\n",
      "1883     112321   104629\n",
      "1884     129022   114445\n",
      "...         ...      ...\n",
      "2010    1772738  1913851\n",
      "2011    1753500  1893230\n",
      "2012    1753922  1889414\n",
      "2013    1745339  1881463\n",
      "2014    1768775  1901376\n",
      "\n",
      "[135 rows x 2 columns]\n"
     ]
    }
   ],
   "source": [
    "births_by_year_gender = df.groupby(['Year', 'Gender'])['Count'].sum().unstack()\n",
    "print(births_by_year_gender)"
   ]
  },
  {
   "cell_type": "markdown",
   "id": "d4370541",
   "metadata": {},
   "source": [
    "## №18\n",
    "### Кількість років, коли дівчаток народжувалось більше, ніж хлопчиків"
   ]
  },
  {
   "cell_type": "code",
   "execution_count": 55,
   "id": "3ee694a8",
   "metadata": {},
   "outputs": [
    {
     "name": "stdout",
     "output_type": "stream",
     "text": [
      "Кількість років, коли народжувалося більше дівчаток, ніж хлопчиків: 54\n"
     ]
    }
   ],
   "source": [
    "gender_counts = df.groupby(['Year', 'Gender'])['Count'].sum().unstack(fill_value=0)\n",
    "\n",
    "years_with_more_girls = (gender_counts['F'] > gender_counts['M']).sum()\n",
    "\n",
    "print(years_with_more_girls)"
   ]
  },
  {
   "cell_type": "markdown",
   "id": "0d12ec76",
   "metadata": {},
   "source": [
    "## №21\n",
    "### Кількість разів коли хлопчиків називали Barbara"
   ]
  },
  {
   "cell_type": "code",
   "execution_count": 5,
   "id": "312af257",
   "metadata": {},
   "outputs": [
    {
     "name": "stdout",
     "output_type": "stream",
     "text": [
      "4139\n"
     ]
    }
   ],
   "source": [
    "barbara_count_for_boys = df[(df['Name'] == 'Barbara') & (df['Gender'] == 'M')]['Count'].sum()\n",
    "\n",
    "print(barbara_count_for_boys)"
   ]
  },
  {
   "cell_type": "markdown",
   "id": "1b188741",
   "metadata": {},
   "source": [
    "## №22\n",
    "### Скільки років проводилось спостереження"
   ]
  },
  {
   "cell_type": "code",
   "execution_count": 4,
   "id": "7d037775",
   "metadata": {},
   "outputs": [
    {
     "name": "stdout",
     "output_type": "stream",
     "text": [
      "'Спостереження проводилось 135 років'\n"
     ]
    }
   ],
   "source": [
    "min_year = df['Year'].min()\n",
    "max_year = df['Year'].max()\n",
    "num_years = max_year - min_year + 1\n",
    "print(f\"'Спостереження проводилось {num_years} років'\")"
   ]
  },
  {
   "cell_type": "markdown",
   "id": "3171b03c",
   "metadata": {},
   "source": [
    "## №22\n",
    "### Знати найпопулярніші гендерно-нейтральні імена (ті, що присутні кожного року)"
   ]
  },
  {
   "cell_type": "code",
   "execution_count": 19,
   "id": "06a6d040",
   "metadata": {},
   "outputs": [
    {
     "name": "stdout",
     "output_type": "stream",
     "text": [
      "Francis\n",
      "James\n",
      "Jean\n",
      "Jesse\n",
      "Jessie\n",
      "John\n",
      "Johnnie\n",
      "Joseph\n",
      "Lee\n",
      "Leslie\n",
      "Marion\n",
      "Ollie\n",
      "Robert\n",
      "Sidney\n",
      "Tommie\n",
      "William\n"
     ]
    }
   ],
   "source": [
    "name_counts_female = df[df['Gender'] == 'F'].groupby('Name')['Year'].nunique()\n",
    "name_counts_male = df[df['Gender'] == 'M'].groupby('Name')['Year'].nunique()\n",
    "\n",
    "common_names = name_counts_female[name_counts_female == df['Year'].nunique()].index.intersection(name_counts_male[name_counts_male == df['Year'].nunique()].index).tolist()\n",
    "\n",
    "common_names_sorted = sorted(common_names)\n",
    "\n",
    "for name in common_names:\n",
    "    print(name)"
   ]
  },
  {
   "cell_type": "markdown",
   "id": "3369a9ee",
   "metadata": {},
   "source": [
    "## №24\n",
    "### Найпопулярніше серед непопулярних імен (непопулярне ім’я, яким називали дітей найбільшу кількість разів)"
   ]
  },
  {
   "cell_type": "code",
   "execution_count": 20,
   "id": "107abc16",
   "metadata": {},
   "outputs": [
    {
     "name": "stdout",
     "output_type": "stream",
     "text": [
      "Найпопулярніше серед непопулярних імен - Allen. Ним називали 184 разів\n"
     ]
    }
   ],
   "source": [
    "average_count = df['Count'].mean()\n",
    "unpopular_names = df[df['Count'] < average_count]\n",
    "most_popular_unpopular_name = unpopular_names[unpopular_names['Count'] == unpopular_names['Count'].max()]\n",
    "print(f\"Найпопулярніше серед непопулярних імен - {most_popular_unpopular_name['Name'].values[0]}. Ним називали {most_popular_unpopular_name['Count'].values[0]} разів\")"
   ]
  },
  {
   "cell_type": "markdown",
   "id": "1e894955",
   "metadata": {},
   "source": [
    "## №26\n",
    "### Графіки розподілення кількості жіночих імен John та чоловічих імен Mary по роках."
   ]
  },
  {
   "cell_type": "code",
   "execution_count": 21,
   "id": "72be9981",
   "metadata": {},
   "outputs": [
    {
     "ename": "NameError",
     "evalue": "name 'plt' is not defined",
     "output_type": "error",
     "traceback": [
      "\u001b[1;31m---------------------------------------------------------------------------\u001b[0m",
      "\u001b[1;31mNameError\u001b[0m                                 Traceback (most recent call last)",
      "Cell \u001b[1;32mIn[21], line 3\u001b[0m\n\u001b[0;32m      1\u001b[0m name_counts_by_year \u001b[38;5;241m=\u001b[39m df[((df[\u001b[38;5;124m'\u001b[39m\u001b[38;5;124mName\u001b[39m\u001b[38;5;124m'\u001b[39m] \u001b[38;5;241m==\u001b[39m \u001b[38;5;124m'\u001b[39m\u001b[38;5;124mJohn\u001b[39m\u001b[38;5;124m'\u001b[39m) \u001b[38;5;241m&\u001b[39m (df[\u001b[38;5;124m'\u001b[39m\u001b[38;5;124mGender\u001b[39m\u001b[38;5;124m'\u001b[39m] \u001b[38;5;241m==\u001b[39m \u001b[38;5;124m'\u001b[39m\u001b[38;5;124mF\u001b[39m\u001b[38;5;124m'\u001b[39m)) \u001b[38;5;241m|\u001b[39m ((df[\u001b[38;5;124m'\u001b[39m\u001b[38;5;124mName\u001b[39m\u001b[38;5;124m'\u001b[39m] \u001b[38;5;241m==\u001b[39m \u001b[38;5;124m'\u001b[39m\u001b[38;5;124mMary\u001b[39m\u001b[38;5;124m'\u001b[39m) \u001b[38;5;241m&\u001b[39m (df[\u001b[38;5;124m'\u001b[39m\u001b[38;5;124mGender\u001b[39m\u001b[38;5;124m'\u001b[39m] \u001b[38;5;241m==\u001b[39m \u001b[38;5;124m'\u001b[39m\u001b[38;5;124mM\u001b[39m\u001b[38;5;124m'\u001b[39m))]\u001b[38;5;241m.\u001b[39mgroupby([\u001b[38;5;124m'\u001b[39m\u001b[38;5;124mYear\u001b[39m\u001b[38;5;124m'\u001b[39m, \u001b[38;5;124m'\u001b[39m\u001b[38;5;124mName\u001b[39m\u001b[38;5;124m'\u001b[39m])[\u001b[38;5;124m'\u001b[39m\u001b[38;5;124mCount\u001b[39m\u001b[38;5;124m'\u001b[39m]\u001b[38;5;241m.\u001b[39msum()\u001b[38;5;241m.\u001b[39munstack()\n\u001b[0;32m      2\u001b[0m name_counts_by_year\u001b[38;5;241m.\u001b[39mplot()\n\u001b[1;32m----> 3\u001b[0m plt\u001b[38;5;241m.\u001b[39mshow()\n",
      "\u001b[1;31mNameError\u001b[0m: name 'plt' is not defined"
     ]
    },
    {
     "data": {
      "image/png": "[encoded data removed]",
      "text/plain": [
       "<Figure size 640x480 with 1 Axes>"
      ]
     },
     "metadata": {},
     "output_type": "display_data"
    }
   ],
   "source": [
    "name_counts_by_year = df[((df['Name'] == 'John') & (df['Gender'] == 'F')) | ((df['Name'] == 'Mary') & (df['Gender'] == 'M'))].groupby(['Year', 'Name'])['Count'].sum().unstack()\n",
    "name_counts_by_year.plot()\n",
    "plt.show()"
   ]
  },
  {
   "cell_type": "code",
   "execution_count": null,
   "id": "cafa028c",
   "metadata": {},
   "outputs": [],
   "source": []
  }
 ],
 "metadata": {
  "kernelspec": {
   "display_name": "Python 3 (ipykernel)",
   "language": "python",
   "name": "python3"
  },
  "language_info": {
   "codemirror_mode": {
    "name": "ipython",
    "version": 3
   },
   "file_extension": ".py",
   "mimetype": "text/x-python",
   "name": "python",
   "nbconvert_exporter": "python",
   "pygments_lexer": "ipython3",
   "version": "3.11.5"
  }
 },
 "nbformat": 4,
 "nbformat_minor": 5
}
